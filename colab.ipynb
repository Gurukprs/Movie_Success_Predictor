{
  "cells": [
    {
      "cell_type": "code",
      "execution_count": null,
      "metadata": {
        "colab": {
          "base_uri": "https://localhost:8080/",
          "height": 507
        },
        "id": "GNh9wWxhiFav",
        "outputId": "e51a8094-fae1-4078-d0f6-d059d146a680"
      },
      "outputs": [
        {
          "name": "stdout",
          "output_type": "stream",
          "text": [
            "Accuracy: 0.87\n"
          ]
        },
        {
          "data": {
            "image/png": "[encoded data removed]",
            "text/plain": [
              "<Figure size 640x480 with 2 Axes>"
            ]
          },
          "metadata": {},
          "output_type": "display_data"
        },
        {
          "name": "stdout",
          "output_type": "stream",
          "text": [
            "Model and feature columns saved.\n"
          ]
        }
      ],
      "source": [
        "import pandas as pd\n",
        "import numpy as np\n",
        "import joblib\n",
        "from sklearn.model_selection import train_test_split\n",
        "from sklearn.ensemble import RandomForestClassifier\n",
        "from sklearn.metrics import accuracy_score, confusion_matrix, ConfusionMatrixDisplay\n",
        "import matplotlib.pyplot as plt\n",
        "\n",
        "# Step 1: Load dataset\n",
        "df = pd.read_csv('movie_metadata.csv')\n",
        "\n",
        "# Step 2: Select meaningful pre-release features\n",
        "df = df[['director_name', 'actor_1_name', 'actor_2_name', 'actor_3_name',\n",
        "         'budget', 'genres', 'duration', 'title_year', 'imdb_score']]\n",
        "df = df.dropna()\n",
        "df = df[df['budget'] > 1000]  # remove garbage budgets\n",
        "\n",
        "# Step 3: Define success label\n",
        "df['success'] = (df['imdb_score'] >= 7.0).astype(int)\n",
        "\n",
        "# Step 4: Cast size\n",
        "df['cast_size'] = df[['actor_1_name', 'actor_2_name', 'actor_3_name']].nunique(axis=1)\n",
        "\n",
        "# Step 5: Director fame (proxy: average rating of their previous movies)\n",
        "director_avg = df.groupby('director_name')['imdb_score'].mean().to_dict()\n",
        "df['director_fame'] = df['director_name'].map(director_avg)\n",
        "\n",
        "# Step 6: One-hot encode genres (use first genre only)\n",
        "df['main_genre'] = df['genres'].apply(lambda x: x.split('|')[0])\n",
        "df = pd.get_dummies(df, columns=['main_genre'], prefix='genre')\n",
        "\n",
        "# Step 7: Features and target\n",
        "X = df[['budget', 'duration', 'title_year', 'cast_size', 'director_fame'] +\n",
        "       [col for col in df.columns if col.startswith('genre_')]]\n",
        "y = df['success']\n",
        "\n",
        "# Step 8: Train-test split\n",
        "X_train, X_test, y_train, y_test = train_test_split(X, y, test_size=0.2, random_state=42)\n",
        "\n",
        "# Step 9: Train model\n",
        "model = RandomForestClassifier(n_estimators=100, random_state=42)\n",
        "model.fit(X_train, y_train)\n",
        "\n",
        "# Step 10: Evaluate\n",
        "y_pred = model.predict(X_test)\n",
        "acc = accuracy_score(y_test, y_pred)\n",
        "print(f\"Accuracy: {acc:.2f}\")\n",
        "\n",
        "# Confusion matrix\n",
        "cm = confusion_matrix(y_test, y_pred)\n",
        "disp = ConfusionMatrixDisplay(confusion_matrix=cm, display_labels=['Flop', 'Hit'])\n",
        "disp.plot(cmap='Blues')\n",
        "plt.title(\"Confusion Matrix\")\n",
        "plt.show()\n",
        "\n",
        "# Step 11: Save the model and feature columns\n",
        "joblib.dump(model, 'movie_success_model.pkl')\n",
        "joblib.dump(X.columns.tolist(), 'feature_columns.pkl')\n",
        "print(\"Model and feature columns saved.\")\n"
      ]
    },
    {
      "cell_type": "code",
      "execution_count": null,
      "metadata": {
        "colab": {
          "base_uri": "https://localhost:8080/"
        },
        "id": "q7so-BGzKjcp",
        "outputId": "9a733e6e-de76-454b-dda7-d515f4388cb2"
      },
      "outputs": [
        {
          "name": "stderr",
          "output_type": "stream",
          "text": [
            "/usr/local/lib/python3.11/dist-packages/xgboost/core.py:158: UserWarning: [03:51:25] WARNING: /workspace/src/learner.cc:740: \n",
            "Parameters: { \"use_label_encoder\" } are not used.\n",
            "\n",
            "  warnings.warn(smsg, UserWarning)\n"
          ]
        },
        {
          "name": "stdout",
          "output_type": "stream",
          "text": [
            "XGBoost Accuracy: 0.8552486187845304\n",
            "              precision    recall  f1-score   support\n",
            "\n",
            "           0       0.88      0.90      0.89       601\n",
            "           1       0.80      0.76      0.78       304\n",
            "\n",
            "    accuracy                           0.86       905\n",
            "   macro avg       0.84      0.83      0.84       905\n",
            "weighted avg       0.85      0.86      0.85       905\n",
            "\n"
          ]
        },
        {
          "data": {
            "text/plain": [
              "['xgb_movie_success_model.pkl']"
            ]
          },
          "execution_count": 4,
          "metadata": {},
          "output_type": "execute_result"
        }
      ],
      "source": [
        "import xgboost as xgb\n",
        "from sklearn.metrics import classification_report\n",
        "\n",
        "# Convert to DMatrix format (optional, for XGBoost)\n",
        "dtrain = xgb.DMatrix(X_train, label=y_train)\n",
        "dtest = xgb.DMatrix(X_test, label=y_test)\n",
        "\n",
        "# Define and train the model\n",
        "xgb_model = xgb.XGBClassifier(use_label_encoder=False, eval_metric='logloss')\n",
        "xgb_model.fit(X_train, y_train)\n",
        "\n",
        "# Evaluate\n",
        "y_pred = xgb_model.predict(X_test)\n",
        "print(\"XGBoost Accuracy:\", accuracy_score(y_test, y_pred))\n",
        "print(classification_report(y_test, y_pred))\n",
        "\n",
        "# Save model\n",
        "joblib.dump(xgb_model, 'xgb_movie_success_model.pkl')\n"
      ]
    },
    {
      "cell_type": "code",
      "execution_count": null,
      "metadata": {
        "colab": {
          "base_uri": "https://localhost:8080/"
        },
        "id": "4GvkN_x6Kl_3",
        "outputId": "c6aad17c-c10b-46ca-a636-546fb99748d8"
      },
      "outputs": [
        {
          "name": "stdout",
          "output_type": "stream",
          "text": [
            "Logistic Regression Accuracy: 0.6928176795580111\n",
            "[[567  34]\n",
            " [244  60]]\n"
          ]
        },
        {
          "data": {
            "text/plain": [
              "['logreg_movie_success_model.pkl']"
            ]
          },
          "execution_count": 5,
          "metadata": {},
          "output_type": "execute_result"
        }
      ],
      "source": [
        "from sklearn.linear_model import LogisticRegression\n",
        "\n",
        "# Train model\n",
        "log_model = LogisticRegression(max_iter=1000)\n",
        "log_model.fit(X_train, y_train)\n",
        "\n",
        "# Evaluate\n",
        "y_pred = log_model.predict(X_test)\n",
        "print(\"Logistic Regression Accuracy:\", accuracy_score(y_test, y_pred))\n",
        "print(confusion_matrix(y_test, y_pred))\n",
        "\n",
        "# Save model\n",
        "joblib.dump(log_model, 'logreg_movie_success_model.pkl')\n"
      ]
    }
  ],
  "metadata": {
    "colab": {
      "provenance": []
    },
    "kernelspec": {
      "display_name": "Python 3",
      "name": "python3"
    },
    "language_info": {
      "name": "python"
    }
  },
  "nbformat": 4,
  "nbformat_minor": 0
}
